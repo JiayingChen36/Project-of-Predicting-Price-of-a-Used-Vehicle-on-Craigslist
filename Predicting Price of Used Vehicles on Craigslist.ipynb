{
 "cells": [
  {
   "cell_type": "markdown",
   "metadata": {},
   "source": [
    "# Homework 3\n",
    "Group member: William Yu(wjy2104), Jiaying Chen(jc5299)"
   ]
  },
  {
   "cell_type": "markdown",
   "metadata": {},
   "source": [
    "## Task 1 Identify features"
   ]
  },
  {
   "cell_type": "code",
   "execution_count": 11,
   "metadata": {},
   "outputs": [],
   "source": [
    "import pandas as pd\n",
    "import matplotlib.pyplot as plt"
   ]
  },
  {
   "cell_type": "markdown",
   "metadata": {},
   "source": [
    "### 1.1 Based on description of features"
   ]
  },
  {
   "cell_type": "markdown",
   "metadata": {},
   "source": [
    "First, according to the description of the original dataset, `id` is the entry id of each row which is unique, that is unuseful for predicting price. Besides, the information given by the value of `url` and `region_url` can be replaced by `region`. What's more, `image_url` and `description` are more useful when applying NLP to this task, so we can also drop these columns at this time."
   ]
  },
  {
   "cell_type": "code",
   "execution_count": 12,
   "metadata": {},
   "outputs": [],
   "source": [
    "df_original = pd.read_csv(\"vehicles.csv\")\n",
    "df_drop_1 = df_original.drop(['id', 'url', 'region_url', 'image_url','description'], axis = 1)\n"
   ]
  },
  {
   "cell_type": "markdown",
   "metadata": {},
   "source": [
    "### 1.2 Based on statistics"
   ]
  },
  {
   "cell_type": "code",
   "execution_count": 13,
   "metadata": {},
   "outputs": [
    {
     "data": {
      "text/html": [
       "<div>\n",
       "<style scoped>\n",
       "    .dataframe tbody tr th:only-of-type {\n",
       "        vertical-align: middle;\n",
       "    }\n",
       "\n",
       "    .dataframe tbody tr th {\n",
       "        vertical-align: top;\n",
       "    }\n",
       "\n",
       "    .dataframe thead th {\n",
       "        text-align: right;\n",
       "    }\n",
       "</style>\n",
       "<table border=\"1\" class=\"dataframe\">\n",
       "  <thead>\n",
       "    <tr style=\"text-align: right;\">\n",
       "      <th></th>\n",
       "      <th>Feature</th>\n",
       "      <th>Unique</th>\n",
       "      <th>NAN</th>\n",
       "      <th>Percent_of _missing(%)</th>\n",
       "    </tr>\n",
       "  </thead>\n",
       "  <tbody>\n",
       "    <tr>\n",
       "      <th>0</th>\n",
       "      <td>region</td>\n",
       "      <td>403</td>\n",
       "      <td>0</td>\n",
       "      <td>0.00</td>\n",
       "    </tr>\n",
       "    <tr>\n",
       "      <th>1</th>\n",
       "      <td>price</td>\n",
       "      <td>17854</td>\n",
       "      <td>0</td>\n",
       "      <td>0.00</td>\n",
       "    </tr>\n",
       "    <tr>\n",
       "      <th>17</th>\n",
       "      <td>state</td>\n",
       "      <td>51</td>\n",
       "      <td>0</td>\n",
       "      <td>0.00</td>\n",
       "    </tr>\n",
       "    <tr>\n",
       "      <th>2</th>\n",
       "      <td>year</td>\n",
       "      <td>115</td>\n",
       "      <td>1527</td>\n",
       "      <td>0.30</td>\n",
       "    </tr>\n",
       "    <tr>\n",
       "      <th>9</th>\n",
       "      <td>title_status</td>\n",
       "      <td>7</td>\n",
       "      <td>3062</td>\n",
       "      <td>0.60</td>\n",
       "    </tr>\n",
       "    <tr>\n",
       "      <th>10</th>\n",
       "      <td>transmission</td>\n",
       "      <td>4</td>\n",
       "      <td>3719</td>\n",
       "      <td>0.73</td>\n",
       "    </tr>\n",
       "    <tr>\n",
       "      <th>7</th>\n",
       "      <td>fuel</td>\n",
       "      <td>6</td>\n",
       "      <td>3985</td>\n",
       "      <td>0.78</td>\n",
       "    </tr>\n",
       "    <tr>\n",
       "      <th>4</th>\n",
       "      <td>model</td>\n",
       "      <td>35853</td>\n",
       "      <td>7989</td>\n",
       "      <td>1.57</td>\n",
       "    </tr>\n",
       "    <tr>\n",
       "      <th>18</th>\n",
       "      <td>lat</td>\n",
       "      <td>51489</td>\n",
       "      <td>10292</td>\n",
       "      <td>2.02</td>\n",
       "    </tr>\n",
       "    <tr>\n",
       "      <th>19</th>\n",
       "      <td>long</td>\n",
       "      <td>51468</td>\n",
       "      <td>10292</td>\n",
       "      <td>2.02</td>\n",
       "    </tr>\n",
       "    <tr>\n",
       "      <th>3</th>\n",
       "      <td>manufacturer</td>\n",
       "      <td>44</td>\n",
       "      <td>22764</td>\n",
       "      <td>4.47</td>\n",
       "    </tr>\n",
       "    <tr>\n",
       "      <th>8</th>\n",
       "      <td>odometer</td>\n",
       "      <td>119874</td>\n",
       "      <td>92324</td>\n",
       "      <td>18.12</td>\n",
       "    </tr>\n",
       "    <tr>\n",
       "      <th>14</th>\n",
       "      <td>type</td>\n",
       "      <td>14</td>\n",
       "      <td>141531</td>\n",
       "      <td>27.77</td>\n",
       "    </tr>\n",
       "    <tr>\n",
       "      <th>12</th>\n",
       "      <td>drive</td>\n",
       "      <td>4</td>\n",
       "      <td>144143</td>\n",
       "      <td>28.29</td>\n",
       "    </tr>\n",
       "    <tr>\n",
       "      <th>15</th>\n",
       "      <td>paint_color</td>\n",
       "      <td>13</td>\n",
       "      <td>164706</td>\n",
       "      <td>32.32</td>\n",
       "    </tr>\n",
       "    <tr>\n",
       "      <th>6</th>\n",
       "      <td>cylinders</td>\n",
       "      <td>9</td>\n",
       "      <td>199683</td>\n",
       "      <td>39.19</td>\n",
       "    </tr>\n",
       "    <tr>\n",
       "      <th>11</th>\n",
       "      <td>vin</td>\n",
       "      <td>180146</td>\n",
       "      <td>207425</td>\n",
       "      <td>40.71</td>\n",
       "    </tr>\n",
       "    <tr>\n",
       "      <th>5</th>\n",
       "      <td>condition</td>\n",
       "      <td>7</td>\n",
       "      <td>231934</td>\n",
       "      <td>45.52</td>\n",
       "    </tr>\n",
       "    <tr>\n",
       "      <th>13</th>\n",
       "      <td>size</td>\n",
       "      <td>5</td>\n",
       "      <td>342003</td>\n",
       "      <td>67.12</td>\n",
       "    </tr>\n",
       "    <tr>\n",
       "      <th>16</th>\n",
       "      <td>county</td>\n",
       "      <td>1</td>\n",
       "      <td>509577</td>\n",
       "      <td>100.00</td>\n",
       "    </tr>\n",
       "  </tbody>\n",
       "</table>\n",
       "</div>"
      ],
      "text/plain": [
       "         Feature  Unique     NAN  Percent_of _missing(%)\n",
       "0         region     403       0                    0.00\n",
       "1          price   17854       0                    0.00\n",
       "17         state      51       0                    0.00\n",
       "2           year     115    1527                    0.30\n",
       "9   title_status       7    3062                    0.60\n",
       "10  transmission       4    3719                    0.73\n",
       "7           fuel       6    3985                    0.78\n",
       "4          model   35853    7989                    1.57\n",
       "18           lat   51489   10292                    2.02\n",
       "19          long   51468   10292                    2.02\n",
       "3   manufacturer      44   22764                    4.47\n",
       "8       odometer  119874   92324                   18.12\n",
       "14          type      14  141531                   27.77\n",
       "12         drive       4  144143                   28.29\n",
       "15   paint_color      13  164706                   32.32\n",
       "6      cylinders       9  199683                   39.19\n",
       "11           vin  180146  207425                   40.71\n",
       "5      condition       7  231934                   45.52\n",
       "13          size       5  342003                   67.12\n",
       "16        county       1  509577                  100.00"
      ]
     },
     "execution_count": 13,
     "metadata": {},
     "output_type": "execute_result"
    }
   ],
   "source": [
    "# The general analysis of the rest features\n",
    "# Number of unique values\n",
    "# Number of NAN\n",
    "column_names = ['Feature', 'Unique', 'NAN', 'Percent_of _missing(%)']\n",
    "df_drop_1_info = pd.DataFrame(columns = column_names)\n",
    "for column in list(df_drop_1.columns):\n",
    "    num_unique = len(df_drop_1[column].unique())\n",
    "    num_nan = df_drop_1[column].isna().sum()\n",
    "    p_missing = round(num_nan/len(df_drop_1),4)*100\n",
    "    \n",
    "    row = {'Feature': column, 'Unique': num_unique, 'NAN': num_nan, 'Percent_of _missing(%)': p_missing}\n",
    "    df_drop_1_info = df_drop_1_info.append(row, ignore_index=True)\n",
    "    \n",
    "df_drop_1_info = df_drop_1_info.sort_values(by ='NAN')\n",
    "df_drop_1_info"
   ]
  },
  {
   "cell_type": "markdown",
   "metadata": {},
   "source": [
    "From the above table, we can see that there is no value in `county`, then we can delete this feature. And it is same to `size`, there are more than 50% missing values. As for `vin`, except 40% missing values, every two rows share a `vin` category averagely, in this case, it can also be classified as a unique id, so we just drop this feature."
   ]
  },
  {
   "cell_type": "code",
   "execution_count": 14,
   "metadata": {},
   "outputs": [],
   "source": [
    "df_drop_2 = df_drop_1.drop(['county', 'size', 'vin'], axis = 1)\n",
    "df_drop_2_info = df_drop_1_info.drop(df_drop_1_info[ df_drop_1_info['Feature'] == 'county'].index, axis = 0)\n",
    "df_drop_2_info = df_drop_2_info.drop(df_drop_1_info[ df_drop_1_info['Feature'] == 'size'].index, axis = 0)\n",
    "df_drop_2_info = df_drop_2_info.drop(df_drop_1_info[ df_drop_1_info['Feature'] == 'vin'].index, axis = 0)\n",
    "\n",
    "\n",
    "indexNames = df_drop_2[ df_drop_2['price'] == 0 ].index\n",
    "df_drop_2.drop(indexNames, inplace=True)\n",
    "\n",
    "df_Step1 = df_drop_2\n",
    "\n",
    "df_sample = df_Step1.sample(frac=0.2, replace=True, random_state=42)"
   ]
  },
  {
   "cell_type": "markdown",
   "metadata": {},
   "source": [
    "### 1.3 Based on visualization"
   ]
  },
  {
   "cell_type": "code",
   "execution_count": 15,
   "metadata": {},
   "outputs": [
    {
     "data": {
      "image/png": "[encoded data removed]",
      "text/plain": [
       "<Figure size 1080x360 with 8 Axes>"
      ]
     },
     "metadata": {},
     "output_type": "display_data"
    }
   ],
   "source": [
    "cars_dropped = df_drop_2.dropna()\n",
    "fig, ax = plt.subplots(2,4, figsize=(15,5))\n",
    "ax[0,0].hist(cars_dropped.year, bins=10)\n",
    "ax[0,0].set_xlabel(\"year\")\n",
    "ax[0,1].hist(cars_dropped.cylinders, bins='auto')\n",
    "ax[0,1].set_xlabel(\"cylinders\")\n",
    "ax[0,2].hist(cars_dropped.condition, bins='auto') #one hot encode\n",
    "ax[0,2].set_xlabel(\"condition\")\n",
    "ax[0,3].hist(cars_dropped.fuel, bins='auto')\n",
    "ax[0,3].set_xlabel(\"fuel\")\n",
    "ax[1,0].hist(cars_dropped.transmission, bins='auto')\n",
    "ax[1,0].set_xlabel(\"transmission\")\n",
    "ax[1,1].hist(cars_dropped.drive, bins='auto')\n",
    "ax[1,1].set_xlabel(\"drive\")\n",
    "ax[1,2].hist(cars_dropped.title_status, bins='auto')\n",
    "ax[1,2].set_xlabel(\"title_status\")\n",
    "ax[1,3].boxplot(cars_dropped.price)\n",
    "ax[1,3].set_xlabel(\"price\")\n",
    "\n",
    "plt.tight_layout()"
   ]
  },
  {
   "cell_type": "code",
   "execution_count": 16,
   "metadata": {},
   "outputs": [
    {
     "data": {
      "text/plain": [
       "<seaborn.axisgrid.FacetGrid at 0x13daa3fd0>"
      ]
     },
     "execution_count": 16,
     "metadata": {},
     "output_type": "execute_result"
    },
    {
     "data": {
      "image/png": "[encoded data removed]",
      "text/plain": [
       "<Figure size 360x360 with 1 Axes>"
      ]
     },
     "metadata": {},
     "output_type": "display_data"
    },
    {
     "data": {
      "image/png": "[encoded data removed]",
      "text/plain": [
       "<Figure size 360x360 with 1 Axes>"
      ]
     },
     "metadata": {},
     "output_type": "display_data"
    }
   ],
   "source": [
    "import seaborn as sns\n",
    "import matplotlib.pyplot as plt\n",
    "sns.set(style=\"ticks\", color_codes=True)\n",
    "q_hi  = df_drop_2[\"price\"].quantile(0.95)\n",
    "q_low  = df_drop_2[\"price\"].quantile(0.05)\n",
    "df_filtered = df_drop_2[(df_drop_2[\"price\"] < q_hi)&(df_drop_2[\"price\"] > q_low)]\n",
    "# less than 10\n",
    "sns.catplot(x=\"condition\", y=\"price\", kind=\"box\",order=[\"new\", \"like new\", \"excellent\", \"good\", \"fair\",\"salvage\"], data=df_filtered)\n",
    "#sns.catplot(x=\"cylinders\", y=\"price\",kind=\"box\", data=df_filtered)\n",
    "#sns.catplot(x=\"drive\", y=\"price\",kind=\"box\", data=df_filtered)\n",
    "sns.catplot(x=\"fuel\", y=\"price\",kind=\"box\", data=df_filtered)\n",
    "#sns.catplot(x=\"transmission\", y=\"price\",kind=\"box\", data=df_filtered)\n",
    "#sns.catplot(x=\"title_status\", y=\"price\",kind=\"box\", data=df_filtered)\n",
    "# more than 10\n",
    "#sns.catplot(x=\"paint_color\", y=\"price\",kind=\"box\", data=df_filtered)\n",
    "#sns.catplot(x=\"type\", y=\"price\",kind=\"box\", data=df_filtered)\n",
    "\n",
    "#more than 20\n",
    "#sns.catplot(x=\"manufacturer\", y=\"price\",kind=\"box\", data=df_filtered)\n",
    "#sns.catplot(x=\"state\", y=\"price\",kind=\"box\", data=df_filtered)'''"
   ]
  },
  {
   "cell_type": "markdown",
   "metadata": {},
   "source": [
    "From the box polts of each subcategory in each feature, we can know that for `condition` and `fuel`, the distribution of price depends on each subcategories. "
   ]
  },
  {
   "cell_type": "markdown",
   "metadata": {},
   "source": [
    "## Task 2  Preprocessing and Baseline Model"
   ]
  },
  {
   "cell_type": "markdown",
   "metadata": {},
   "source": [
    "#### 1) Initial features\n",
    "    'odometer', 'year', 'fuel', 'condition','price'\n",
    "#### 2) Preprocessing\n",
    "    · Missing Value: Drop\n",
    "    · Numeric: StandardScaler\n",
    "    · Categorical: OneHotEncoder\n",
    "#### 3) Model\n",
    "    Linear Regression\n"
   ]
  },
  {
   "cell_type": "code",
   "execution_count": 17,
   "metadata": {},
   "outputs": [],
   "source": [
    "from sklearn.preprocessing import StandardScaler, OneHotEncoder, MinMaxScaler, PolynomialFeatures, OrdinalEncoder\n",
    "from category_encoders.target_encoder import TargetEncoder\n",
    "from sklearn.model_selection import train_test_split, cross_val_score, cross_validate, GridSearchCV, KFold\n",
    "from sklearn.pipeline import make_pipeline\n",
    "from sklearn.linear_model import LinearRegression, Ridge, Lasso\n",
    "from sklearn.compose import make_column_transformer\n",
    "import numpy as np\n",
    "from sklearn.impute import SimpleImputer, KNNImputer\n",
    "from sklearn.ensemble import RandomForestClassifier\n",
    "from sklearn.tree import DecisionTreeClassifier"
   ]
  },
  {
   "cell_type": "code",
   "execution_count": 18,
   "metadata": {},
   "outputs": [
    {
     "name": "stderr",
     "output_type": "stream",
     "text": [
      "/Users/williamyu/anaconda3/lib/python3.7/site-packages/pandas/core/frame.py:3997: SettingWithCopyWarning: \n",
      "A value is trying to be set on a copy of a slice from a DataFrame\n",
      "\n",
      "See the caveats in the documentation: https://pandas.pydata.org/pandas-docs/stable/user_guide/indexing.html#returning-a-view-versus-a-copy\n",
      "  errors=errors,\n"
     ]
    }
   ],
   "source": [
    "# Initial feature selection\n",
    "features_intial = ['odometer', 'year', 'fuel', 'condition','price']\n",
    "\n",
    "# Selecting features\n",
    "# Dropping NULL\n",
    "\n",
    "df_base = df_sample[features_intial]\n",
    "df_base_sample = df_base.dropna()\n",
    "indexNames = df_base_sample[ df_base_sample['price'] == 0 ].index\n",
    "df_base_sample.drop(indexNames, inplace=True)\n",
    "\n",
    "X_baseline = df_base_sample.drop(['price'], axis = 1)\n",
    "y_baseline = df_base_sample['price']"
   ]
  },
  {
   "cell_type": "code",
   "execution_count": 19,
   "metadata": {},
   "outputs": [
    {
     "name": "stdout",
     "output_type": "stream",
     "text": [
      "r2 of baseline:  -107.69745756633338\n"
     ]
    }
   ],
   "source": [
    "categorical = X_baseline.dtypes == 'object'\n",
    "preprocess = make_column_transformer(\n",
    "    (StandardScaler(), ~categorical),\n",
    "    (OneHotEncoder(), categorical)   \n",
    ")\n",
    "\n",
    "pipe = make_pipeline(preprocess, LinearRegression())\n",
    "r2_baseline =  cross_val_score(pipe, X_baseline, y_baseline, cv=5, scoring='r2')\n",
    "print(\"r2 of baseline: \", np.mean(r2_baseline))"
   ]
  },
  {
   "cell_type": "markdown",
   "metadata": {},
   "source": [
    "After doing an initial selection of features, appropriate preprocessing and cross-validating a linear regression model, we can get the $R^2$ of this base line model is `-107.70`, the result is so bad."
   ]
  },
  {
   "cell_type": "markdown",
   "metadata": {},
   "source": [
    "## Task 3 Feature Engineering"
   ]
  },
  {
   "cell_type": "markdown",
   "metadata": {},
   "source": [
    "#### 1) Outlier\n",
    "    Drop outliers in the column `price` (threshold: 0.05 & 0.95)\n",
    "    \n",
    "#### 2) Categorical features\n",
    "    According to the number of categories, we can devide all categorical features into 2 parts:\n",
    "    ·Less than 15: OneHotEncoder()\n",
    "        `transmission`, `drive`, `fuel`, `title_status`, `condition`, `cylinders`, `paint_color`, \n",
    "        `type`\n",
    "    ·More than 15: TargetEncoder()\n",
    "        `manufacturer`, `state`, `region`, `model`:\n",
    "    \n",
    "#### 3) Numeric features\n",
    "    `year`, `odometer`\n",
    "    `long`: it can be replaced by region and state\n",
    "    `lat`: it can be replaced by region and state"
   ]
  },
  {
   "cell_type": "code",
   "execution_count": 20,
   "metadata": {},
   "outputs": [],
   "source": [
    "q_hi  = df_drop_2[\"price\"].quantile(0.95)\n",
    "q_low  = df_drop_2[\"price\"].quantile(0.05)\n",
    "df_filtered = df_drop_2[(df_drop_2[\"price\"] < q_hi)&(df_drop_2[\"price\"] > q_low)]"
   ]
  },
  {
   "cell_type": "markdown",
   "metadata": {},
   "source": [
    "### 3.1 Sample Data (Selecting useful features and dropping outliers of price)"
   ]
  },
  {
   "cell_type": "code",
   "execution_count": 21,
   "metadata": {},
   "outputs": [],
   "source": [
    "df_eng = df_filtered.drop(['long','lat'], axis = 1)\n",
    "df_enf_sample = df_eng.sample(frac=0.2, replace=True, random_state=42)\n",
    "\n",
    "X_eng = df_enf_sample.drop(['price'], axis = 1)\n",
    "y_eng = df_enf_sample[['price']]"
   ]
  },
  {
   "cell_type": "markdown",
   "metadata": {},
   "source": [
    "### 3.2 Preprocessing for linear model"
   ]
  },
  {
   "cell_type": "markdown",
   "metadata": {},
   "source": [
    "1) Numeric features\n",
    "\n",
    "\n",
    "   ·Dealing with missing value: replacing missing value with median value<br>\n",
    "   ·Scaler: using MinMaxScaler to scale features\n",
    "   \n",
    "   \n",
    "2) Categorical features\n",
    "\n",
    "\n",
    "   ·Dealing with missing value: replacing missing value with constant, setting missing value as a new subcategory<br>\n",
    "   ·Scaler: for features with more than 20 subcategories, using TargetEncoder to scale features and then treat these features as numeric features, hence then using MinMaxScaler to scale these features; and for features with less than 20 subcategories, using OneHotEncoder to scale features"
   ]
  },
  {
   "cell_type": "code",
   "execution_count": 12,
   "metadata": {},
   "outputs": [],
   "source": [
    "feature_TE = ['region', 'model', 'manufacturer', 'state']\n",
    "feature_OHE = ['transmission', 'drive', 'fuel', 'title_status', 'condition', 'cylinders', 'paint_color', 'type']\n",
    "\n",
    "# After targetencoder, those features becoming numeric also need to scale using numeric scaling methods\n",
    "feature_MM = ['year', 'odometer',\n",
    "              'region', 'model', 'manufacturer', 'state']"
   ]
  },
  {
   "cell_type": "code",
   "execution_count": 13,
   "metadata": {},
   "outputs": [],
   "source": [
    "numeric_transformer = make_pipeline(\n",
    "    (SimpleImputer(strategy = 'median')),\n",
    "    MinMaxScaler()\n",
    ")\n",
    "\n",
    "categorical_transformer = make_pipeline(\n",
    "    (SimpleImputer(strategy='constant', fill_value='NaN')),\n",
    "    (OneHotEncoder(handle_unknown = 'ignore')))"
   ]
  },
  {
   "cell_type": "markdown",
   "metadata": {},
   "source": [
    "### 3.3 Linear Model -- Basic"
   ]
  },
  {
   "cell_type": "code",
   "execution_count": 14,
   "metadata": {},
   "outputs": [
    {
     "name": "stdout",
     "output_type": "stream",
     "text": [
      "RMSE after feature engineering:  5538.494487959851\n",
      "R^2 after feature engineering:  0.5513521776123878\n"
     ]
    }
   ],
   "source": [
    "preprocess_eng = make_column_transformer(\n",
    "    (numeric_transformer, feature_MM),\n",
    "    (categorical_transformer, feature_OHE)   \n",
    ")\n",
    "\n",
    "pipe = make_pipeline(TargetEncoder(cols = feature_TE), preprocess_eng, LinearRegression())\n",
    "\n",
    "scores_eng = cross_val_score(pipe, X_eng, y_eng, cv=10, scoring=('neg_root_mean_squared_error'))\n",
    "print(\"RMSE after feature engineering: \", -1 * np.mean(scores_eng))\n",
    "\n",
    "r2_eng = cross_val_score(pipe, X_eng, y_eng, cv=10, scoring=('r2'))\n",
    "print(\"R^2 after feature engineering: \", np.mean(r2_eng))"
   ]
  },
  {
   "cell_type": "markdown",
   "metadata": {},
   "source": [
    "### 3.4 Linear Model -- PolynomialFeatures"
   ]
  },
  {
   "cell_type": "code",
   "execution_count": 15,
   "metadata": {
    "scrolled": true
   },
   "outputs": [
    {
     "name": "stdout",
     "output_type": "stream",
     "text": [
      "R^2 after feature engineering:  0.7185193243830008\n"
     ]
    }
   ],
   "source": [
    "preprocess_eng = make_column_transformer(\n",
    "    (numeric_transformer, feature_MM),\n",
    "    (categorical_transformer, feature_OHE)   \n",
    ")\n",
    "pipe_poly = make_pipeline(TargetEncoder(cols = feature_TE), preprocess_eng, PolynomialFeatures(), LinearRegression())\n",
    "R2_eng_poly = cross_val_score(pipe_poly, X_eng, y_eng, cv=10, scoring=('r2'))\n",
    "print(\"R^2 after feature engineering: \", np.mean(R2_eng_poly))"
   ]
  },
  {
   "cell_type": "markdown",
   "metadata": {},
   "source": [
    "### 3.5 Result"
   ]
  },
  {
   "cell_type": "markdown",
   "metadata": {},
   "source": [
    "||Baseline|with feature engineering| with feature engineering plus polynomialfeature|\n",
    "|---|---|---|---|\n",
    "|$R^2$|-276.5523|0.5514|0.7185|"
   ]
  },
  {
   "cell_type": "markdown",
   "metadata": {},
   "source": [
    "The table shows the performance of those models, it clearly represents that after creating derived features and performing more in-depth preprocessing and data cleaning, the model is improved. And if we add PolynomialFeatures to the process of preprocessing, we can get a better model."
   ]
  },
  {
   "cell_type": "markdown",
   "metadata": {},
   "source": [
    "## Task 4 Any model"
   ]
  },
  {
   "cell_type": "code",
   "execution_count": 17,
   "metadata": {},
   "outputs": [],
   "source": [
    "from sklearn.tree import DecisionTreeRegressor\n",
    "from sklearn.inspection import plot_partial_dependence\n",
    "from sklearn.ensemble import GradientBoostingRegressor"
   ]
  },
  {
   "cell_type": "code",
   "execution_count": 16,
   "metadata": {},
   "outputs": [],
   "source": [
    "X_train, X_test, y_train, y_test = train_test_split(X_eng, y_eng, test_size=0.2, random_state = 42)"
   ]
  },
  {
   "cell_type": "markdown",
   "metadata": {},
   "source": [
    "Using two models for predicting prices: 1) Decission Tree; 2) and GradientBoosting."
   ]
  },
  {
   "cell_type": "markdown",
   "metadata": {},
   "source": [
    "### 4.1 Based on feature engineering of Task3"
   ]
  },
  {
   "cell_type": "markdown",
   "metadata": {},
   "source": [
    "#### 1) Decission Tree"
   ]
  },
  {
   "cell_type": "code",
   "execution_count": 19,
   "metadata": {},
   "outputs": [
    {
     "data": {
      "text/plain": [
       "0.750012510966741"
      ]
     },
     "execution_count": 19,
     "metadata": {},
     "output_type": "execute_result"
    }
   ],
   "source": [
    "pipe_tree = make_pipeline(TargetEncoder(cols = feature_TE), preprocess_eng, DecisionTreeRegressor())\n",
    "param_grid_tree = {'decisiontreeregressor__max_depth': range(5, 15, 1)}\n",
    "grid_tree = GridSearchCV(pipe_tree, param_grid_tree, cv=KFold(5), return_train_score=True, scoring=('r2'))\n",
    "grid_tree.fit(X_train, y_train.values.ravel())\n",
    "grid_tree.score(X_test, y_test)"
   ]
  },
  {
   "cell_type": "code",
   "execution_count": 20,
   "metadata": {},
   "outputs": [
    {
     "data": {
      "text/plain": [
       "[<matplotlib.lines.Line2D at 0x2b2f304cb08>]"
      ]
     },
     "execution_count": 20,
     "metadata": {},
     "output_type": "execute_result"
    },
    {
     "data": {
      "image/png": "[encoded data removed]",
      "text/plain": [
       "<Figure size 432x288 with 1 Axes>"
      ]
     },
     "metadata": {},
     "output_type": "display_data"
    }
   ],
   "source": [
    "param_tree_grid = grid_tree.cv_results_['param_decisiontreeregressor__max_depth'].data\n",
    "r2_tree_grid = grid_tree.cv_results_['mean_test_score']\n",
    "plt.plot(param_tree_grid, r2_tree_grid)"
   ]
  },
  {
   "cell_type": "code",
   "execution_count": 21,
   "metadata": {},
   "outputs": [
    {
     "name": "stdout",
     "output_type": "stream",
     "text": [
      "Best parameter of max_depth for DecisionTree:  {'decisiontreeregressor__max_depth': 12}\n",
      "R^2 of decision tree on test data:  0.750012510966741\n"
     ]
    }
   ],
   "source": [
    "print(\"Best parameter of max_depth for DecisionTree: \", grid_tree.best_params_)\n",
    "print(\"R^2 of decision tree on test data: \", grid_tree.score(X_test, y_test))"
   ]
  },
  {
   "cell_type": "markdown",
   "metadata": {},
   "source": [
    "#### 2) GradientBoosting"
   ]
  },
  {
   "cell_type": "code",
   "execution_count": 23,
   "metadata": {},
   "outputs": [
    {
     "data": {
      "text/plain": [
       "0.8540440120899968"
      ]
     },
     "execution_count": 23,
     "metadata": {},
     "output_type": "execute_result"
    }
   ],
   "source": [
    "pipe_gbrt = make_pipeline(TargetEncoder(cols = feature_TE), preprocess_eng, GradientBoostingRegressor())\n",
    "param_grid_gbrt = {'gradientboostingregressor__max_depth': range(3, 23, 5)}\n",
    "grid_gbrt = GridSearchCV(pipe_gbrt, param_grid_gbrt, cv=KFold(5), return_train_score=True, scoring=('r2'))\n",
    "grid_gbrt.fit(X_train, y_train.values.ravel())\n",
    "grid_gbrt.score(X_test, y_test)"
   ]
  },
  {
   "cell_type": "code",
   "execution_count": 24,
   "metadata": {},
   "outputs": [
    {
     "data": {
      "text/plain": [
       "[<matplotlib.lines.Line2D at 0x2b310086a88>]"
      ]
     },
     "execution_count": 24,
     "metadata": {},
     "output_type": "execute_result"
    },
    {
     "data": {
      "image/png": "[encoded data removed]",
      "text/plain": [
       "<Figure size 432x288 with 1 Axes>"
      ]
     },
     "metadata": {},
     "output_type": "display_data"
    }
   ],
   "source": [
    "param_gbrt_grid = grid_gbrt.cv_results_['param_gradientboostingregressor__max_depth'].data\n",
    "r2_gbrt_grid = grid_gbrt.cv_results_['mean_test_score']\n",
    "plt.plot(param_gbrt_grid, r2_gbrt_grid)"
   ]
  },
  {
   "cell_type": "code",
   "execution_count": 25,
   "metadata": {},
   "outputs": [
    {
     "name": "stdout",
     "output_type": "stream",
     "text": [
      "Best parameter of max_depth for GradientBoosting:  {'gradientboostingregressor__max_depth': 13}\n",
      "R^2 of GradientBoosting on test data:  0.8540440120899968\n"
     ]
    }
   ],
   "source": [
    "print(\"Best parameter of max_depth for GradientBoosting: \", grid_gbrt.best_params_)\n",
    "print(\"R^2 of GradientBoosting on test data: \", grid_gbrt.score(X_test, y_test))"
   ]
  },
  {
   "cell_type": "markdown",
   "metadata": {},
   "source": [
    "### 4.2 Based on other feature engineering"
   ]
  },
  {
   "cell_type": "markdown",
   "metadata": {},
   "source": [
    "OneHotEncoder for all categorical features.<br>\n",
    "MinMaxScaler for all numerical features.<br>\n",
    "No TargetEncoder."
   ]
  },
  {
   "cell_type": "markdown",
   "metadata": {},
   "source": [
    "#### 1. DecisionTree"
   ]
  },
  {
   "cell_type": "code",
   "execution_count": 51,
   "metadata": {},
   "outputs": [
    {
     "name": "stdout",
     "output_type": "stream",
     "text": [
      "R^2 after feature engineering:  0.7639217652947551\n"
     ]
    }
   ],
   "source": [
    "\n",
    "category = X_eng.dtypes == 'object'\n",
    "\n",
    "preprocess_eng_1 = make_column_transformer(\n",
    "    (numeric_transformer, ~category),\n",
    "    (categorical_transformer, category)   \n",
    ")\n",
    "\n",
    "pipe_tree_1 = make_pipeline(preprocess_eng_1, DecisionTreeRegressor())\n",
    "\n",
    "r2_tree_1 = cross_val_score(pipe_tree_1, X_eng, y_eng.values.ravel(), cv=10, scoring=('r2'))\n",
    "print(\"R^2 after feature engineering: \", np.mean(r2_tree_1))"
   ]
  },
  {
   "cell_type": "code",
   "execution_count": 62,
   "metadata": {},
   "outputs": [
    {
     "data": {
      "text/plain": [
       "0.7545535666826517"
      ]
     },
     "execution_count": 62,
     "metadata": {},
     "output_type": "execute_result"
    }
   ],
   "source": [
    "param_grid_tree_1 = {'decisiontreeregressor__min_samples_split': range(70, 80, 1)}\n",
    "grid_tree_1 = GridSearchCV(pipe_tree_1, param_grid_tree_1, cv=KFold(5), return_train_score=True, scoring=('r2'))\n",
    "grid_tree_1.fit(X_train, y_train.values.ravel())\n",
    "grid_tree_1.score(X_test, y_test)"
   ]
  },
  {
   "cell_type": "code",
   "execution_count": 63,
   "metadata": {},
   "outputs": [
    {
     "data": {
      "text/plain": [
       "[<matplotlib.lines.Line2D at 0x2b309b6e1c8>]"
      ]
     },
     "execution_count": 63,
     "metadata": {},
     "output_type": "execute_result"
    },
    {
     "data": {
      "image/png": "[encoded data removed]",
      "text/plain": [
       "<Figure size 432x288 with 1 Axes>"
      ]
     },
     "metadata": {},
     "output_type": "display_data"
    }
   ],
   "source": [
    "param_tree_grid_1 = grid_tree_1.cv_results_['param_decisiontreeregressor__min_samples_split'].data\n",
    "r2_tree_grid_1 = grid_tree_1.cv_results_['mean_test_score']\n",
    "plt.plot(param_tree_grid_1, r2_tree_grid_1)"
   ]
  },
  {
   "cell_type": "markdown",
   "metadata": {},
   "source": [
    "#### 2. GradientBoosting"
   ]
  },
  {
   "cell_type": "code",
   "execution_count": 43,
   "metadata": {},
   "outputs": [
    {
     "data": {
      "text/plain": [
       "0.8485011674711813"
      ]
     },
     "execution_count": 43,
     "metadata": {},
     "output_type": "execute_result"
    }
   ],
   "source": [
    "pipe_gbrt_1 = make_pipeline(preprocess_eng_1, GradientBoostingRegressor())\n",
    "param_grid_gbrt_1 = {'gradientboostingregressor__max_depth': range(13, 23, 2)}\n",
    "grid_gbrt_1 = GridSearchCV(pipe_gbrt_1, param_grid_gbrt_1, cv=KFold(5), return_train_score=True, scoring=('r2'))\n",
    "grid_gbrt_1.fit(X_train, y_train.values.ravel())\n",
    "grid_gbrt_1.score(X_test, y_test)"
   ]
  },
  {
   "cell_type": "code",
   "execution_count": 230,
   "metadata": {},
   "outputs": [
    {
     "data": {
      "text/plain": [
       "{'gradientboostingregressor__max_depth': 17}"
      ]
     },
     "execution_count": 230,
     "metadata": {},
     "output_type": "execute_result"
    }
   ],
   "source": [
    "grid_gbrt_1.best_params_"
   ]
  },
  {
   "cell_type": "code",
   "execution_count": 44,
   "metadata": {
    "scrolled": true
   },
   "outputs": [
    {
     "data": {
      "text/plain": [
       "[<matplotlib.lines.Line2D at 0x2b2f2ffcb88>]"
      ]
     },
     "execution_count": 44,
     "metadata": {},
     "output_type": "execute_result"
    },
    {
     "data": {
      "image/png": "[encoded data removed]",
      "text/plain": [
       "<Figure size 432x288 with 1 Axes>"
      ]
     },
     "metadata": {},
     "output_type": "display_data"
    }
   ],
   "source": [
    "param_gbrt_grid_1 = grid_gbrt_1.cv_results_['param_gradientboostingregressor__max_depth'].data\n",
    "r2_gbrt_grid_1 = grid_gbrt_1.cv_results_['mean_test_score']\n",
    "plt.plot(param_gbrt_grid_1, r2_gbrt_grid_1)"
   ]
  },
  {
   "cell_type": "markdown",
   "metadata": {},
   "source": [
    "### 4.3 Results"
   ]
  },
  {
   "cell_type": "markdown",
   "metadata": {},
   "source": [
    "$R^2$ of different models on different feature engineering."
   ]
  },
  {
   "cell_type": "markdown",
   "metadata": {},
   "source": [
    "||Same Feature Engineering with Task3| Other Feature Engineering|\n",
    "|---|---|---|\n",
    "|Decision Tree|0.7500|0.7546|\n",
    "|GradientBoosting|0.8540|0.8485|"
   ]
  },
  {
   "cell_type": "markdown",
   "metadata": {},
   "source": [
    "From the above table, we can see that either DecisionTree or GradientBoosting is better than Linear Regression. <br>\n",
    "For DecisionTree, the second feature engineering can make the model perform better, but the influence is slight. <br>\n",
    "For GradientBoosting, the first feature engineering is better than the second one, although the difference is small.<br>\n",
    "Anyway, from this table, we can know GradientBoosting with the first feature engineeing(that is the one got from task 3) is the best model."
   ]
  },
  {
   "cell_type": "markdown",
   "metadata": {},
   "source": [
    "## Task 5  Feature Selections"
   ]
  },
  {
   "cell_type": "markdown",
   "metadata": {},
   "source": [
    "### 5.1 Univariant Statistics"
   ]
  },
  {
   "cell_type": "code",
   "execution_count": 135,
   "metadata": {},
   "outputs": [],
   "source": [
    "from sklearn.feature_selection import SelectKBest\n",
    "from sklearn.feature_selection import chi2, f_regression"
   ]
  },
  {
   "cell_type": "code",
   "execution_count": 144,
   "metadata": {},
   "outputs": [
    {
     "data": {
      "text/plain": [
       "SelectKBest(k='all', score_func=<function f_regression at 0x000002B309B9B0D8>)"
      ]
     },
     "execution_count": 144,
     "metadata": {},
     "output_type": "execute_result"
    }
   ],
   "source": [
    "\n",
    "categorical_OE = make_pipeline(\n",
    "    (SimpleImputer(strategy='constant', fill_value='NaN')),\n",
    "    (OrdinalEncoder()))\n",
    "\n",
    "preprocess_FSelection = make_column_transformer(\n",
    "    ((SimpleImputer(strategy = 'median')), ~category),\n",
    "    (categorical_OE, category)   \n",
    ")\n",
    "preprocess_FSelection.fit(X_train)\n",
    "\n",
    "X_train_OE = preprocess_FSelection.transform(X_train)\n",
    "#X_test_OE = preprocess_FSelection.transform(X_test)\n",
    "\n",
    "fs = SelectKBest(score_func=f_regression, k='all')\n",
    "fs.fit(X_train_OE, y_train.values.ravel())"
   ]
  },
  {
   "cell_type": "code",
   "execution_count": 146,
   "metadata": {},
   "outputs": [
    {
     "data": {
      "image/png": "[encoded data removed]",
      "text/plain": [
       "<Figure size 432x288 with 1 Axes>"
      ]
     },
     "metadata": {},
     "output_type": "display_data"
    }
   ],
   "source": [
    "feature_chi2 = pd.Series(fs.scores_, index=X_train.columns)\n",
    "feature_chi2.nlargest(len(fs.scores_)).plot(kind='barh')\n",
    "plt.title(\"Univariant Statistics\")\n",
    "plt.xlabel(\"f_values\")\n",
    "plt.show()"
   ]
  },
  {
   "cell_type": "markdown",
   "metadata": {},
   "source": [
    "From the figure `Univariant Statistics`, we can see that `model`, `state`, `condition`, `manufacturer`, `transmission` and `paint_color` have small f-values, that means we can try to drop these features. And `region`, `year`, `drive` are most influential."
   ]
  },
  {
   "cell_type": "markdown",
   "metadata": {},
   "source": [
    "### 5.2 Feature selection based on feature importance"
   ]
  },
  {
   "cell_type": "markdown",
   "metadata": {},
   "source": [
    "#### 1. DecisionTree"
   ]
  },
  {
   "cell_type": "markdown",
   "metadata": {},
   "source": [
    "(1) Feature Importance"
   ]
  },
  {
   "cell_type": "code",
   "execution_count": 96,
   "metadata": {},
   "outputs": [],
   "source": [
    "feature_OHE = grid_tree.best_estimator_.steps[1][1].transformers_[1][1].named_steps['onehotencoder'].get_feature_names(feature_OHE)"
   ]
  },
  {
   "cell_type": "code",
   "execution_count": 99,
   "metadata": {},
   "outputs": [],
   "source": [
    "feature_import = grid_tree.best_estimator_.steps[2][1].feature_importances_"
   ]
  },
  {
   "cell_type": "code",
   "execution_count": 100,
   "metadata": {},
   "outputs": [],
   "source": [
    "all_features_eng_OHE = np.concatenate((feature_MM, feature_OHE), axis=None)"
   ]
  },
  {
   "cell_type": "code",
   "execution_count": 153,
   "metadata": {},
   "outputs": [
    {
     "data": {
      "image/png": "[encoded data removed]",
      "text/plain": [
       "<Figure size 720x432 with 1 Axes>"
      ]
     },
     "metadata": {},
     "output_type": "display_data"
    }
   ],
   "source": [
    "feat_importances = pd.Series(feature_import, index=all_features_eng_OHE)\n",
    "plt.figure(figsize=(10,6))\n",
    "feat_importances.nlargest(25).plot(kind='barh')\n",
    "plt.title(\"Feature Importance of Decision Tree\")\n",
    "plt.xlabel(\"Feature Importance\")\n",
    "plt.show()"
   ]
  },
  {
   "cell_type": "markdown",
   "metadata": {},
   "source": [
    "Combining the result got from `Univariant Statistics` and the result from Feature Importance of Decision Tree, we can drop `paint_color`."
   ]
  },
  {
   "cell_type": "markdown",
   "metadata": {},
   "source": [
    "For DecisionTree model, `year`, `model` and `odometer` are most influential."
   ]
  },
  {
   "cell_type": "markdown",
   "metadata": {},
   "source": [
    "(2) DecisionTree after Feature Selection"
   ]
  },
  {
   "cell_type": "code",
   "execution_count": 192,
   "metadata": {},
   "outputs": [
    {
     "data": {
      "text/plain": [
       "0.7504254542178441"
      ]
     },
     "execution_count": 192,
     "metadata": {},
     "output_type": "execute_result"
    }
   ],
   "source": [
    "feature_OHE_selection = ['drive', 'fuel', 'title_status', 'condition', 'cylinders', 'type', 'paint_color']\n",
    "\n",
    "preprocess_selection = make_column_transformer(\n",
    "    (numeric_transformer, feature_MM),\n",
    "    (categorical_transformer, feature_OHE_selection)   \n",
    ")\n",
    "\n",
    "param_grid_tree_selection = {'decisiontreeregressor__max_depth': range(5, 15, 1)}\n",
    "\n",
    "pipe_tree_selection = make_pipeline(TargetEncoder(cols = feature_TE), preprocess_selection, DecisionTreeRegressor())\n",
    "\n",
    "grid_tree_selection = GridSearchCV(pipe_tree_selection, param_grid_tree_selection, cv=KFold(5), return_train_score=True, scoring=('r2'))\n",
    "grid_tree_selection.fit(X_train, y_train.values.ravel())\n",
    "grid_tree_selection.score(X_test, y_test)"
   ]
  },
  {
   "cell_type": "code",
   "execution_count": 193,
   "metadata": {},
   "outputs": [
    {
     "data": {
      "text/plain": [
       "[<matplotlib.lines.Line2D at 0x2b309c80408>]"
      ]
     },
     "execution_count": 193,
     "metadata": {},
     "output_type": "execute_result"
    },
    {
     "data": {
      "image/png": "[encoded data removed]",
      "text/plain": [
       "<Figure size 432x288 with 1 Axes>"
      ]
     },
     "metadata": {},
     "output_type": "display_data"
    }
   ],
   "source": [
    "plt.plot(grid_tree_selection.cv_results_['param_decisiontreeregressor__max_depth'].data, grid_tree_selection.cv_results_['mean_test_score'])"
   ]
  },
  {
   "cell_type": "markdown",
   "metadata": {},
   "source": [
    "Based on the analysis of feature selection, we can drop `transmission`, which would not decrease the performance of DecisionTree even improve the model. The value of $R^2$ increases from `0.7500` to `0.7504`."
   ]
  },
  {
   "cell_type": "markdown",
   "metadata": {},
   "source": [
    "#### 2. GradientBoosting"
   ]
  },
  {
   "cell_type": "markdown",
   "metadata": {},
   "source": [
    "(1) Feature Importance"
   ]
  },
  {
   "cell_type": "code",
   "execution_count": 176,
   "metadata": {},
   "outputs": [
    {
     "data": {
      "image/png": "[encoded data removed]",
      "text/plain": [
       "<Figure size 720x432 with 1 Axes>"
      ]
     },
     "metadata": {},
     "output_type": "display_data"
    }
   ],
   "source": [
    "feature_importances_GB = pd.Series(grid_gbrt.best_estimator_.steps[2][1].feature_importances_, index=all_features_eng_OHE)\n",
    "plt.figure(figsize=(10,6))\n",
    "feature_importances_GB.nlargest(25).plot(kind='barh')\n",
    "plt.title(\"Feature Importance of feature_importances_GB\")\n",
    "plt.xlabel(\"Feature Importance\")\n",
    "plt.show()"
   ]
  },
  {
   "cell_type": "markdown",
   "metadata": {},
   "source": [
    "Combining the result got from Univariant Statistics and the result from Feature Importance of GradientBoosting, we can drop `transmission` and `paint color`."
   ]
  },
  {
   "cell_type": "markdown",
   "metadata": {},
   "source": [
    "For GradientBoosting, `year`, `model` and `odometer` are most influential."
   ]
  },
  {
   "cell_type": "markdown",
   "metadata": {},
   "source": [
    "(2) GradientBoosting after feature selection"
   ]
  },
  {
   "cell_type": "code",
   "execution_count": 196,
   "metadata": {},
   "outputs": [
    {
     "data": {
      "text/plain": [
       "0.8536025548640691"
      ]
     },
     "execution_count": 196,
     "metadata": {},
     "output_type": "execute_result"
    }
   ],
   "source": [
    "feature_OHE_selection_GB = ['drive', 'fuel', 'title_status', 'condition', 'cylinders', 'type']\n",
    "\n",
    "\n",
    "preprocess_selection_GB = make_column_transformer(\n",
    "    (numeric_transformer, feature_MM),\n",
    "    (categorical_transformer, feature_OHE_selection_GB)   \n",
    ")\n",
    "\n",
    "param_grid_gbrt_selection = {'gradientboostingregressor__max_depth': range(3, 23, 5)}\n",
    "\n",
    "pipe_gbrt_selection = make_pipeline(TargetEncoder(cols = feature_TE), preprocess_selection_GB, GradientBoostingRegressor())\n",
    "\n",
    "\n",
    "grid_gbrt_selection = GridSearchCV(pipe_gbrt_selection, param_grid_gbrt_selection, cv=KFold(5), return_train_score=True, scoring=('r2'))\n",
    "grid_gbrt_selection.fit(X_train, y_train.values.ravel())\n",
    "grid_gbrt_selection.score(X_test, y_test)"
   ]
  },
  {
   "cell_type": "markdown",
   "metadata": {},
   "source": [
    "After dropping `transmission` and `paint color`, the performance has degraded slightly from `0.8540` to `0.8536`."
   ]
  },
  {
   "cell_type": "markdown",
   "metadata": {},
   "source": [
    "### 5.3 Feature selection based on RFE"
   ]
  },
  {
   "cell_type": "code",
   "execution_count": 222,
   "metadata": {},
   "outputs": [],
   "source": [
    "from sklearn.feature_selection import RFE"
   ]
  },
  {
   "cell_type": "code",
   "execution_count": 285,
   "metadata": {},
   "outputs": [
    {
     "data": {
      "text/plain": [
       "array([1, 1, 5, 1, 1, 1, 1, 1, 1, 4, 1, 1, 3, 2])"
      ]
     },
     "execution_count": 285,
     "metadata": {},
     "output_type": "execute_result"
    }
   ],
   "source": [
    "rfe_2 = RFE(GradientBoostingRegressor(), n_features_to_select = 10)\n",
    "rfe_2.fit(X_train_OE, y_train.values.ravel())\n",
    "rfe_2.ranking_"
   ]
  },
  {
   "cell_type": "code",
   "execution_count": 286,
   "metadata": {},
   "outputs": [
    {
     "data": {
      "text/plain": [
       "Index(['region', 'year', 'manufacturer', 'model', 'condition', 'cylinders',\n",
       "       'fuel', 'odometer', 'title_status', 'transmission', 'drive', 'type',\n",
       "       'paint_color', 'state'],\n",
       "      dtype='object')"
      ]
     },
     "execution_count": 286,
     "metadata": {},
     "output_type": "execute_result"
    }
   ],
   "source": [
    "X_train.columns"
   ]
  },
  {
   "cell_type": "code",
   "execution_count": 288,
   "metadata": {
    "scrolled": true
   },
   "outputs": [
    {
     "data": {
      "image/png": "[encoded data removed]",
      "text/plain": [
       "<Figure size 432x288 with 1 Axes>"
      ]
     },
     "metadata": {},
     "output_type": "display_data"
    }
   ],
   "source": [
    "plt.scatter(X_train.columns, rfe_2.ranking_)\n",
    "plt.title(\"Rank of features base on RFE\")\n",
    "plt.ylabel(\"Rank\")\n",
    "plt.xticks(rotation=90)\n",
    "plt.show()"
   ]
  },
  {
   "cell_type": "markdown",
   "metadata": {},
   "source": [
    "1) Drop 4 features: `transmission`, `manufacturer`, `paint_color`, `state`"
   ]
  },
  {
   "cell_type": "code",
   "execution_count": 275,
   "metadata": {},
   "outputs": [
    {
     "data": {
      "text/plain": [
       "0.842359327641256"
      ]
     },
     "execution_count": 275,
     "metadata": {},
     "output_type": "execute_result"
    }
   ],
   "source": [
    "feature_TE_REF = ['region', 'model']\n",
    "feature_OHE_REF = ['drive', 'fuel', 'title_status', 'condition', 'cylinders', 'type']\n",
    "feature_MM_REF = ['year', 'odometer',\n",
    "              'region', 'model']\n",
    "\n",
    "preprocess_selection_GB_ref = make_column_transformer(\n",
    "    (numeric_transformer, feature_MM_REF),\n",
    "    (categorical_transformer, feature_OHE_REF)   )\n",
    "\n",
    "param_grid_gbrt_selection_ref = {'gradientboostingregressor__max_depth': range(3, 23, 5)}\n",
    "pipe_gbrt_selection_ref = make_pipeline(TargetEncoder(cols = feature_TE_REF), preprocess_selection_GB_ref, GradientBoostingRegressor())\n",
    "\n",
    "grid_gbrt_selection_ref = GridSearchCV(pipe_gbrt_selection_ref, param_grid_gbrt_selection_ref, cv=KFold(5), return_train_score=True, scoring=('r2'))\n",
    "grid_gbrt_selection_ref.fit(X_train, y_train.values.ravel())\n",
    "grid_gbrt_selection_ref.score(X_test, y_test)"
   ]
  },
  {
   "cell_type": "markdown",
   "metadata": {},
   "source": [
    "2) Drop 3 features: `transmission`, `manufacturer`, `paint_color`"
   ]
  },
  {
   "cell_type": "code",
   "execution_count": 278,
   "metadata": {},
   "outputs": [
    {
     "data": {
      "text/plain": [
       "0.8426328788235495"
      ]
     },
     "execution_count": 278,
     "metadata": {},
     "output_type": "execute_result"
    }
   ],
   "source": [
    "#Drop 3 features: transmission, manufacture, paint_color\n",
    "feature_TE_REF = ['region', 'model', 'state']\n",
    "feature_OHE_REF = ['drive', 'fuel', 'title_status', 'condition', 'cylinders', 'type']\n",
    "\n",
    "# After targetencoder, those features becoming numeric also need to scale using numeric scaling methods\n",
    "feature_MM_REF = ['year', 'odometer',\n",
    "              'region', 'model', 'state']\n",
    "''\n",
    "\n",
    "\n",
    "preprocess_selection_GB_ref = make_column_transformer(\n",
    "    (numeric_transformer, feature_MM_REF),\n",
    "    (categorical_transformer, feature_OHE_REF)   \n",
    ")\n",
    "\n",
    "param_grid_gbrt_selection_ref = {'gradientboostingregressor__max_depth': range(3, 23, 5)}\n",
    "\n",
    "pipe_gbrt_selection_ref = make_pipeline(TargetEncoder(cols = feature_TE_REF), preprocess_selection_GB_ref, GradientBoostingRegressor())\n",
    "\n",
    "\n",
    "grid_gbrt_selection_ref = GridSearchCV(pipe_gbrt_selection_ref, param_grid_gbrt_selection_ref, cv=KFold(5), return_train_score=True, scoring=('r2'))\n",
    "grid_gbrt_selection_ref.fit(X_train, y_train.values.ravel())\n",
    "grid_gbrt_selection_ref.score(X_test, y_test)"
   ]
  },
  {
   "cell_type": "markdown",
   "metadata": {},
   "source": [
    "3) Drop 2 features: `transmission`, `manufacturer`"
   ]
  },
  {
   "cell_type": "code",
   "execution_count": 282,
   "metadata": {},
   "outputs": [
    {
     "data": {
      "text/plain": [
       "0.8433202550481826"
      ]
     },
     "execution_count": 282,
     "metadata": {},
     "output_type": "execute_result"
    }
   ],
   "source": [
    "# Drop 2 features: manufacture, transmission\n",
    "feature_TE_REF = ['region', 'model', 'state']\n",
    "feature_OHE_REF = ['drive', 'fuel', 'title_status', 'condition', 'cylinders', 'paint_color', 'type']\n",
    "\n",
    "# After targetencoder, those features becoming numeric also need to scale using numeric scaling methods\n",
    "feature_MM_REF = ['year', 'odometer',\n",
    "              'region', 'model', 'state']\n",
    "\n",
    "preprocess_selection_GB_ref = make_column_transformer(\n",
    "    (numeric_transformer, feature_MM_REF),\n",
    "    (categorical_transformer, feature_OHE_REF)   \n",
    ")\n",
    "\n",
    "param_grid_gbrt_selection_ref = {'gradientboostingregressor__max_depth': range(3, 23, 5)}\n",
    "\n",
    "pipe_gbrt_selection_ref = make_pipeline(TargetEncoder(cols = feature_TE_REF), preprocess_selection_GB_ref, GradientBoostingRegressor())\n",
    "\n",
    "\n",
    "grid_gbrt_selection_ref = GridSearchCV(pipe_gbrt_selection_ref, param_grid_gbrt_selection_ref, cv=KFold(5), return_train_score=True, scoring=('r2'))\n",
    "grid_gbrt_selection_ref.fit(X_train, y_train.values.ravel())\n",
    "grid_gbrt_selection_ref.score(X_test, y_test)"
   ]
  },
  {
   "cell_type": "markdown",
   "metadata": {},
   "source": [
    "### 5.4 Results"
   ]
  },
  {
   "cell_type": "markdown",
   "metadata": {},
   "source": [
    "|Without feature selection| Based on RFE<br>(Drop 4 features)|Based on RFE<br>(Drop 3 features)|Based on RFE<br>(Drop 2 features)| Based on feature importance <br>and univariate statistics|\n",
    "|---|---|---|---|---|\n",
    "|0.8485|0.8424|0.8426|0.8433|0.8536|"
   ]
  },
  {
   "cell_type": "markdown",
   "metadata": {},
   "source": [
    "From the above table, when we use RFE to select features, the performance is slightly deregraded, but the degradation which is within the acceptable range can make the model more faster and easier to interpret, hence it's ok to drop 4 most irrelative features, that is we just select `region`, `year`, `model`, `condition`, `cylinders`, `fuel`, `odometer`, `title_status`, `drive`, `type`.<br>\n",
    "Besides, if we select feature based on feature importace of gradientboosting(because we use this model to training data) and the univariate statistics got from the original sample data after encodering categorical features by OrdinalEncoder, we can drop two features, and the performance is almost same to the performance of the best model without feature selection. However, it is not obvious when selecting features based on feature importance, because those categorical features are encoder by OneHotEncoder."
   ]
  },
  {
   "cell_type": "markdown",
   "metadata": {},
   "source": [
    "## Task 6 An explainable model"
   ]
  },
  {
   "cell_type": "markdown",
   "metadata": {},
   "source": [
    "### 6.1 Decision Tree"
   ]
  },
  {
   "cell_type": "code",
   "execution_count": 207,
   "metadata": {},
   "outputs": [
    {
     "data": {
      "text/plain": [
       "0.5826518858702587"
      ]
     },
     "execution_count": 207,
     "metadata": {},
     "output_type": "execute_result"
    }
   ],
   "source": [
    "feature_OHE_EM = ['drive', 'cylinders']\n",
    "feature_TE_EM = ['model']\n",
    "feature_MM_EM = ['year', 'odometer',\n",
    "              'model']\n",
    "\n",
    "preprocess_EM = make_column_transformer(\n",
    "    (numeric_transformer, feature_MM_EM),\n",
    "    (categorical_transformer, feature_OHE_EM)   \n",
    ")\n",
    "\n",
    "param_grid_tree_EM = {'decisiontreeregressor__max_leaf_nodes': range(8, 15, 1)}\n",
    "\n",
    "pipe_tree_EM = make_pipeline(TargetEncoder(cols = feature_TE_EM), preprocess_EM, DecisionTreeRegressor())\n",
    "\n",
    "grid_tree_EM = GridSearchCV(pipe_tree_EM, param_grid_tree_EM, cv=KFold(5), return_train_score=True, scoring=('r2'))\n",
    "grid_tree_EM.fit(X_train, y_train.values.ravel())\n",
    "grid_tree_EM.score(X_test, y_test)"
   ]
  },
  {
   "cell_type": "code",
   "execution_count": 208,
   "metadata": {},
   "outputs": [
    {
     "data": {
      "text/plain": [
       "{'decisiontreeregressor__max_leaf_nodes': 14}"
      ]
     },
     "execution_count": 208,
     "metadata": {},
     "output_type": "execute_result"
    }
   ],
   "source": [
    "grid_tree_EM.best_params_"
   ]
  },
  {
   "cell_type": "code",
   "execution_count": 220,
   "metadata": {},
   "outputs": [
    {
     "data": {
      "text/plain": [
       "0.7076462178164394"
      ]
     },
     "execution_count": 220,
     "metadata": {},
     "output_type": "execute_result"
    }
   ],
   "source": [
    "param_grid_tree_EM = {'decisiontreeregressor__max_leaf_nodes': range(100, 120, 5)}\n",
    "\n",
    "pipe_tree_EM = make_pipeline(TargetEncoder(cols = feature_TE), preprocess_selection, DecisionTreeRegressor())\n",
    "grid_tree_EM = GridSearchCV(pipe_tree_EM, param_grid_tree_EM, cv=KFold(5), return_train_score=True, scoring=('r2'))\n",
    "grid_tree_EM.fit(X_train, y_train.values.ravel())\n",
    "grid_tree_EM.score(X_test, y_test)"
   ]
  },
  {
   "cell_type": "code",
   "execution_count": 221,
   "metadata": {},
   "outputs": [
    {
     "data": {
      "text/plain": [
       "{'decisiontreeregressor__max_leaf_nodes': 115}"
      ]
     },
     "execution_count": 221,
     "metadata": {},
     "output_type": "execute_result"
    }
   ],
   "source": [
    "grid_tree_EM.best_params_"
   ]
  },
  {
   "cell_type": "markdown",
   "metadata": {},
   "source": [
    "To create an explainable model, we have to be willing to tradeoff accuracy for this dataset. Just using DecisionTree as an example, when we set the value of the parameter `max_leaf_nodes` at a small range that makes the tree only has small number of leaves so that we can easily interpret the tree, but we can see when `max_leaf_nodes` = 14, $R^2$ has already been reduced around 0.2, it is a big drop for the performance of this model. If we want to get a better model which is nearly as good as the best DecisionTree model, we need to set the parameter `max_leaf_nodes` to a large number, even when we set it to 115, which is impossible to explain the tree, $R^2$ is just 0.7076 which is less than the best model ($R^2$ is around 0.75)."
   ]
  },
  {
   "cell_type": "markdown",
   "metadata": {},
   "source": [
    "### 6.2 Linear Regression"
   ]
  },
  {
   "cell_type": "markdown",
   "metadata": {},
   "source": [
    "We can try doing the same with a linear regression model: "
   ]
  },
  {
   "cell_type": "code",
   "execution_count": 107,
   "metadata": {},
   "outputs": [
    {
     "name": "stderr",
     "output_type": "stream",
     "text": [
      "/Users/williamyu/anaconda3/lib/python3.7/site-packages/pandas/core/frame.py:4133: SettingWithCopyWarning: \n",
      "A value is trying to be set on a copy of a slice from a DataFrame\n",
      "\n",
      "See the caveats in the documentation: https://pandas.pydata.org/pandas-docs/stable/user_guide/indexing.html#returning-a-view-versus-a-copy\n",
      "  errors=errors,\n",
      "/Users/williamyu/anaconda3/lib/python3.7/site-packages/pandas/core/frame.py:3997: SettingWithCopyWarning: \n",
      "A value is trying to be set on a copy of a slice from a DataFrame\n",
      "\n",
      "See the caveats in the documentation: https://pandas.pydata.org/pandas-docs/stable/user_guide/indexing.html#returning-a-view-versus-a-copy\n",
      "  errors=errors,\n"
     ]
    }
   ],
   "source": [
    "# do some preprocessing again\n",
    "cars = df_original.loc[df_original.price != 0]\n",
    "cars.rename(columns={'size': 'sizes'}, inplace=True)\n",
    "cars.drop([\"id\", \"url\", \"region_url\", \"county\", \"image_url\", \"description\", \"vin\"], axis=1, inplace=True)"
   ]
  },
  {
   "cell_type": "code",
   "execution_count": 97,
   "metadata": {},
   "outputs": [],
   "source": [
    "col = ['price', 'year', 'manufacturer', 'model', 'condition', \n",
    "                 'odometer', 'title_status', 'sizes', 'type', 'drive', 'region', 'state']\n",
    "cars_4 = cars.loc[:, col]"
   ]
  },
  {
   "cell_type": "code",
   "execution_count": 98,
   "metadata": {},
   "outputs": [
    {
     "data": {
      "text/plain": [
       "(83715, 12)"
      ]
     },
     "execution_count": 98,
     "metadata": {},
     "output_type": "execute_result"
    }
   ],
   "source": [
    "upper_lim = cars_4.price.quantile(.95)\n",
    "lower_lim = cars_4.price.quantile(.05)\n",
    "cars_4 = cars_4[(cars_4.price < upper_lim) & (cars_4.price > lower_lim)]\n",
    "cars_4 = cars_4.sample(frac=0.2, replace=True, random_state=0)\n",
    "cars_4.shape"
   ]
  },
  {
   "cell_type": "code",
   "execution_count": 99,
   "metadata": {},
   "outputs": [
    {
     "data": {
      "text/plain": [
       "(68411, 12)"
      ]
     },
     "execution_count": 99,
     "metadata": {},
     "output_type": "execute_result"
    }
   ],
   "source": [
    "# impossible to have a car with no mileage\n",
    "# car with extremely high mileage ignore for now\n",
    "upper_lim = cars_4.odometer.quantile(.99)\n",
    "lower_lim = cars_4.odometer.quantile(.01)\n",
    "cars_4 = cars_4[(cars_4.odometer < upper_lim) & (cars_4.odometer > lower_lim)]\n",
    "cars_4.shape"
   ]
  },
  {
   "cell_type": "code",
   "execution_count": 100,
   "metadata": {},
   "outputs": [],
   "source": [
    "data_4 = cars_4.loc[:, cars_4.columns != 'price']\n",
    "target_4 = cars_4.loc[:, 'price']"
   ]
  },
  {
   "cell_type": "code",
   "execution_count": 101,
   "metadata": {},
   "outputs": [
    {
     "name": "stderr",
     "output_type": "stream",
     "text": [
      "/Users/williamyu/anaconda3/lib/python3.7/site-packages/ipykernel_launcher.py:5: SettingWithCopyWarning: \n",
      "A value is trying to be set on a copy of a slice from a DataFrame.\n",
      "Try using .loc[row_indexer,col_indexer] = value instead\n",
      "\n",
      "See the caveats in the documentation: https://pandas.pydata.org/pandas-docs/stable/user_guide/indexing.html#returning-a-view-versus-a-copy\n",
      "  \"\"\"\n",
      "/Users/williamyu/anaconda3/lib/python3.7/site-packages/ipykernel_launcher.py:9: SettingWithCopyWarning: \n",
      "A value is trying to be set on a copy of a slice from a DataFrame.\n",
      "Try using .loc[row_indexer,col_indexer] = value instead\n",
      "\n",
      "See the caveats in the documentation: https://pandas.pydata.org/pandas-docs/stable/user_guide/indexing.html#returning-a-view-versus-a-copy\n",
      "  if __name__ == '__main__':\n",
      "/Users/williamyu/anaconda3/lib/python3.7/site-packages/ipykernel_launcher.py:13: SettingWithCopyWarning: \n",
      "A value is trying to be set on a copy of a slice from a DataFrame.\n",
      "Try using .loc[row_indexer,col_indexer] = value instead\n",
      "\n",
      "See the caveats in the documentation: https://pandas.pydata.org/pandas-docs/stable/user_guide/indexing.html#returning-a-view-versus-a-copy\n",
      "  del sys.path[0]\n",
      "/Users/williamyu/anaconda3/lib/python3.7/site-packages/ipykernel_launcher.py:17: SettingWithCopyWarning: \n",
      "A value is trying to be set on a copy of a slice from a DataFrame.\n",
      "Try using .loc[row_indexer,col_indexer] = value instead\n",
      "\n",
      "See the caveats in the documentation: https://pandas.pydata.org/pandas-docs/stable/user_guide/indexing.html#returning-a-view-versus-a-copy\n",
      "/Users/williamyu/anaconda3/lib/python3.7/site-packages/ipykernel_launcher.py:21: SettingWithCopyWarning: \n",
      "A value is trying to be set on a copy of a slice from a DataFrame.\n",
      "Try using .loc[row_indexer,col_indexer] = value instead\n",
      "\n",
      "See the caveats in the documentation: https://pandas.pydata.org/pandas-docs/stable/user_guide/indexing.html#returning-a-view-versus-a-copy\n",
      "/Users/williamyu/anaconda3/lib/python3.7/site-packages/ipykernel_launcher.py:25: SettingWithCopyWarning: \n",
      "A value is trying to be set on a copy of a slice from a DataFrame.\n",
      "Try using .loc[row_indexer,col_indexer] = value instead\n",
      "\n",
      "See the caveats in the documentation: https://pandas.pydata.org/pandas-docs/stable/user_guide/indexing.html#returning-a-view-versus-a-copy\n",
      "/Users/williamyu/anaconda3/lib/python3.7/site-packages/ipykernel_launcher.py:29: SettingWithCopyWarning: \n",
      "A value is trying to be set on a copy of a slice from a DataFrame.\n",
      "Try using .loc[row_indexer,col_indexer] = value instead\n",
      "\n",
      "See the caveats in the documentation: https://pandas.pydata.org/pandas-docs/stable/user_guide/indexing.html#returning-a-view-versus-a-copy\n",
      "/Users/williamyu/anaconda3/lib/python3.7/site-packages/ipykernel_launcher.py:33: SettingWithCopyWarning: \n",
      "A value is trying to be set on a copy of a slice from a DataFrame.\n",
      "Try using .loc[row_indexer,col_indexer] = value instead\n",
      "\n",
      "See the caveats in the documentation: https://pandas.pydata.org/pandas-docs/stable/user_guide/indexing.html#returning-a-view-versus-a-copy\n"
     ]
    }
   ],
   "source": [
    "si = SimpleImputer(strategy='median')\n",
    "si = si.fit(data_4[['year']])\n",
    "data_4['year'] = si.transform(data_4[['year']]).ravel()\n",
    "\n",
    "si_cat = SimpleImputer(strategy='constant')\n",
    "si_cat = si_cat.fit(data_4[['manufacturer']])\n",
    "data_4['manufacturer'] = si_cat.transform(data_4[['manufacturer']]).ravel()\n",
    "\n",
    "si_cat = SimpleImputer(strategy='constant')\n",
    "si_cat = si_cat.fit(data_4[['model']])\n",
    "data_4['model'] = si_cat.transform(data_4[['model']]).ravel()\n",
    "\n",
    "si_cat = SimpleImputer(strategy='constant')\n",
    "si_cat = si_cat.fit(data_4[['condition']])\n",
    "data_4['condition'] = si_cat.transform(data_4[['condition']]).ravel()\n",
    "\n",
    "si_cat = SimpleImputer(strategy='constant')\n",
    "si_cat = si_cat.fit(data_4[['title_status']])\n",
    "data_4['title_status'] = si_cat.transform(data_4[['title_status']]).ravel()\n",
    "\n",
    "si_cat = SimpleImputer(strategy='constant')\n",
    "si_cat = si_cat.fit(data_4[['sizes']])\n",
    "data_4['sizes'] = si_cat.transform(data_4[['sizes']]).ravel()\n",
    "\n",
    "si_cat = SimpleImputer(strategy='constant')\n",
    "si_cat = si_cat.fit(data_4[['type']])\n",
    "data_4['type'] = si_cat.transform(data_4[['type']]).ravel()\n",
    "\n",
    "si_cat = SimpleImputer(strategy='constant')\n",
    "si_cat = si_cat.fit(data_4[['drive']])\n",
    "data_4['drive'] = si_cat.transform(data_4[['drive']]).ravel()"
   ]
  },
  {
   "cell_type": "code",
   "execution_count": 102,
   "metadata": {},
   "outputs": [],
   "source": [
    "X_train_4, X_test_4, y_train_4, y_test_4 = train_test_split(data_4, target_4, random_state=0)"
   ]
  },
  {
   "cell_type": "code",
   "execution_count": 103,
   "metadata": {},
   "outputs": [],
   "source": [
    "# try targetencode all variables for ease of interpretation\n",
    "targetencode = ['manufacturer', 'model', 'condition', 'title_status', 'sizes', 'type',\n",
    "               'drive', 'region', 'state']\n",
    "cont = ['year', 'manufacturer', 'model', 'condition', 'odometer', 'title_status', 'sizes', 'type', 'drive',\n",
    "        'region', 'state']"
   ]
  },
  {
   "cell_type": "markdown",
   "metadata": {},
   "source": [
    "We can use SequentialFeatureSelector to select our features:"
   ]
  },
  {
   "cell_type": "code",
   "execution_count": 104,
   "metadata": {},
   "outputs": [
    {
     "data": {
      "text/plain": [
       "Pipeline(memory=None,\n",
       "         steps=[('targetencoder',\n",
       "                 TargetEncoder(cols=['manufacturer', 'model', 'condition',\n",
       "                                     'title_status', 'sizes', 'type', 'drive',\n",
       "                                     'region', 'state'],\n",
       "                               drop_invariant=False, handle_missing='value',\n",
       "                               handle_unknown='value', min_samples_leaf=1,\n",
       "                               return_df=True, smoothing=1.0, verbose=0)),\n",
       "                ('columntransformer',\n",
       "                 ColumnTransformer(n_jobs=None, remainder='drop'...\n",
       "                                                   'sizes', 'type', 'drive',\n",
       "                                                   'region', 'state'])],\n",
       "                                   verbose=False)),\n",
       "                ('sequentialfeatureselector',\n",
       "                 SequentialFeatureSelector(clone_estimator=True, cv=5,\n",
       "                                           estimator=LinearRegression(copy_X=True,\n",
       "                                                                      fit_intercept=True,\n",
       "                                                                      n_jobs=None,\n",
       "                                                                      normalize=False),\n",
       "                                           fixed_features=None, floating=False,\n",
       "                                           forward=False, k_features=5,\n",
       "                                           n_jobs=1, pre_dispatch='2*n_jobs',\n",
       "                                           scoring=None, verbose=0))],\n",
       "         verbose=False)"
      ]
     },
     "execution_count": 104,
     "metadata": {},
     "output_type": "execute_result"
    }
   ],
   "source": [
    "from mlxtend.feature_selection import SequentialFeatureSelector\n",
    "\n",
    "sfs = SequentialFeatureSelector(LinearRegression(), forward=False, k_features=5)\n",
    "preprocess = make_column_transformer((StandardScaler(), cont))\n",
    "pipe = make_pipeline(TargetEncoder(cols=targetencode), preprocess, sfs)\n",
    "pipe.fit(X_train_4, y_train_4)"
   ]
  },
  {
   "cell_type": "code",
   "execution_count": 105,
   "metadata": {},
   "outputs": [
    {
     "data": {
      "text/plain": [
       "['year', 'model', 'odometer', 'type', 'drive']"
      ]
     },
     "execution_count": 105,
     "metadata": {},
     "output_type": "execute_result"
    }
   ],
   "source": [
    "it = pipe.steps[2][1].k_feature_idx_\n",
    "x = []\n",
    "for i in range(len(it)):\n",
    "    x.append(cont[it[i]])\n",
    "x"
   ]
  },
  {
   "cell_type": "code",
   "execution_count": 106,
   "metadata": {},
   "outputs": [
    {
     "data": {
      "text/plain": [
       "0.6786184538475354"
      ]
     },
     "execution_count": 106,
     "metadata": {},
     "output_type": "execute_result"
    }
   ],
   "source": [
    "pipe.steps[2][1].k_score_"
   ]
  },
  {
   "cell_type": "markdown",
   "metadata": {},
   "source": [
    "So although linear model is much more interpretable than compared to our linear model in task 3, we can see that it certainly has some accuracy to be desired. So there is an inherent tradeoff to making a model; whether you want your model to be more accurate or more easily interpretable. The key objective in many problems is to find a model that can achieve both."
   ]
  }
 ],
 "metadata": {
  "kernelspec": {
   "display_name": "Python 3",
   "language": "python",
   "name": "python3"
  },
  "language_info": {
   "codemirror_mode": {
    "name": "ipython",
    "version": 3
   },
   "file_extension": ".py",
   "mimetype": "text/x-python",
   "name": "python",
   "nbconvert_exporter": "python",
   "pygments_lexer": "ipython3",
   "version": "3.7.4"
  }
 },
 "nbformat": 4,
 "nbformat_minor": 4
}
